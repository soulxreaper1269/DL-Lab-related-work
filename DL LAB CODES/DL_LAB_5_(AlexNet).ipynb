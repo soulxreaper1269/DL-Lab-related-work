{
  "cells": [
    {
      "cell_type": "markdown",
      "metadata": {
        "id": "i-wzKXp-GyOE"
      },
      "source": [
        "# **Lab-05**"
      ]
    },
    {
      "cell_type": "markdown",
      "metadata": {
        "id": "RCWrG0uBGxxR"
      },
      "source": [
        "**Aim:** To implement AlexNet architecture\n"
      ]
    },
    {
      "cell_type": "code",
      "execution_count": null,
      "metadata": {
        "id": "42Kik1igmEEq"
      },
      "outputs": [],
      "source": [
        "!pip install torchmetrics"
      ]
    },
    {
      "cell_type": "code",
      "execution_count": null,
      "metadata": {
        "id": "2UI6auQH55c2"
      },
      "outputs": [],
      "source": [
        "!unzip /content/Face-Images"
      ]
    },
    {
      "cell_type": "code",
      "execution_count": 3,
      "metadata": {
        "id": "lYE1Mft1scfd"
      },
      "outputs": [],
      "source": [
        "!find . -name \"*.DS_Store\" -type f -delete"
      ]
    },
    {
      "cell_type": "code",
      "execution_count": 4,
      "metadata": {
        "id": "JtCx3Z8JGxH9"
      },
      "outputs": [],
      "source": [
        "import torch\n",
        "import torch.nn as nn\n",
        "from torchvision.transforms import ToTensor, transforms\n",
        "from torch.utils.data import DataLoader\n",
        "from torch.utils.data import Dataset\n",
        "from PIL import Image\n",
        "import os"
      ]
    },
    {
      "cell_type": "code",
      "execution_count": 5,
      "metadata": {
        "id": "Cx2afyLHjT8s"
      },
      "outputs": [],
      "source": [
        "class CustomDataset(Dataset):\n",
        "    def __init__(self, root_dir, transform=None):\n",
        "        self.root_dir = root_dir\n",
        "        self.transform = transform\n",
        "        self.classes = sorted(os.listdir(root_dir))\n",
        "\n",
        "    def __len__(self):\n",
        "        return sum(len(files) for _, _, files in os.walk(self.root_dir))\n",
        "\n",
        "    def __getitem__(self, idx):\n",
        "        class_idx = 0\n",
        "        while idx >= len(os.listdir(os.path.join(self.root_dir, self.classes[class_idx]))):\n",
        "            idx -= len(os.listdir(os.path.join(self.root_dir, self.classes[class_idx])))\n",
        "            class_idx += 1\n",
        "        class_dir = os.path.join(self.root_dir, self.classes[class_idx])\n",
        "        file_name = os.listdir(class_dir)[idx]\n",
        "        image = Image.open(os.path.join(class_dir, file_name))\n",
        "        if self.transform:\n",
        "            image = self.transform(image)\n",
        "        return image, class_idx\n",
        "\n",
        "\n",
        "transform = transforms.Compose([\n",
        "    transforms.Resize((227,227)),\n",
        "    transforms.ToTensor()\n",
        "])\n",
        "\n",
        "traindataset = CustomDataset(root_dir='/content/Face Images/Final Training Images', transform=transform)\n",
        "testdataset = CustomDataset(root_dir='/content/Face Images/Final Testing Images', transform=transform)\n",
        "train = DataLoader(traindataset, batch_size=32, shuffle=True)\n",
        "test = DataLoader(testdataset, batch_size=32, shuffle=True)"
      ]
    },
    {
      "cell_type": "code",
      "execution_count": 6,
      "metadata": {
        "id": "a4mNVLkKk9Ix"
      },
      "outputs": [],
      "source": [
        "class AlexNet(nn.Module):\n",
        "    def __init__(self, num_classes):\n",
        "        super(AlexNet, self).__init__()\n",
        "        self.features = nn.Sequential(\n",
        "            nn.Conv2d(3, 64, kernel_size=11, stride=4, padding=2),\n",
        "            nn.ReLU(inplace=True),\n",
        "            nn.MaxPool2d(kernel_size=3, stride=2),\n",
        "            nn.Conv2d(64, 192, kernel_size=5, padding=2),\n",
        "            nn.ReLU(inplace=True),\n",
        "            nn.MaxPool2d(kernel_size=3, stride=2),\n",
        "            nn.Conv2d(192, 384, kernel_size=3, padding=1),\n",
        "            nn.ReLU(inplace=True),\n",
        "            nn.Conv2d(384, 256, kernel_size=3, padding=1),\n",
        "            nn.ReLU(inplace=True),\n",
        "            nn.Conv2d(256, 256, kernel_size=3, padding=1),\n",
        "            nn.ReLU(inplace=True),\n",
        "            nn.MaxPool2d(kernel_size=3, stride=2),\n",
        "        )\n",
        "        self.avgpool = nn.AdaptiveAvgPool2d((6, 6))\n",
        "        self.classifier = nn.Sequential(\n",
        "            nn.Dropout(),\n",
        "            nn.Linear(256 * 6 * 6, 4096),\n",
        "            nn.ReLU(inplace=True),\n",
        "            nn.Dropout(),\n",
        "            nn.Linear(4096, 4096),\n",
        "            nn.ReLU(inplace=True),\n",
        "            nn.Linear(4096, num_classes),\n",
        "        )\n",
        "\n",
        "    def forward(self, x):\n",
        "        x = self.features(x)\n",
        "        x = self.avgpool(x)\n",
        "        x = torch.flatten(x, 1)\n",
        "        x = self.classifier(x)\n",
        "        return x"
      ]
    },
    {
      "cell_type": "code",
      "execution_count": 11,
      "metadata": {
        "id": "W4Xeni4vlTsG"
      },
      "outputs": [],
      "source": [
        "import torchmetrics\n",
        "from tqdm.auto import tqdm\n",
        "import torch.optim as optim\n",
        "from torchmetrics.classification import MulticlassAccuracy, MulticlassConfusionMatrix"
      ]
    },
    {
      "cell_type": "code",
      "execution_count": 18,
      "metadata": {
        "colab": {
          "base_uri": "https://localhost:8080/"
        },
        "id": "NnLn4kTGl_yE",
        "outputId": "3c7a4c2f-9025-43c5-904f-fece1a3cfbe6"
      },
      "outputs": [
        {
          "output_type": "stream",
          "name": "stdout",
          "text": [
            "finished training\n"
          ]
        }
      ],
      "source": [
        "AlexNetModel=AlexNet(16)\n",
        "lossfn=nn.CrossEntropyLoss()\n",
        "optimizer=optim.SGD(params=AlexNetModel.parameters(),\n",
        "                    lr=0.001,\n",
        "                    momentum=0.9)\n",
        "accuracy=torchmetrics.classification.Accuracy(task='multiclass',num_classes=16)\n",
        "\n",
        "epochs=25\n",
        "\n",
        "\n",
        "for i, data in enumerate(train, 0):\n",
        "      inputs, labels = data\n",
        "      optimizer.zero_grad()\n",
        "      AlexNetModel.train()\n",
        "      outputs = AlexNetModel(inputs)\n",
        "      loss = lossfn(outputs, labels)\n",
        "      loss.backward()\n",
        "      optimizer.step()\n",
        "      accuracy.update(outputs, labels)\n",
        "\n",
        "\n",
        "print(\"finished training\")\n"
      ]
    },
    {
      "cell_type": "code",
      "execution_count": 19,
      "metadata": {
        "id": "iiZbyBVMowr0",
        "colab": {
          "base_uri": "https://localhost:8080/"
        },
        "outputId": "8a2ca685-136d-4cbe-d447-7b0de8205f8e"
      },
      "outputs": [
        {
          "output_type": "stream",
          "name": "stdout",
          "text": [
            "Accuracy on test set: 5.844155788421631\n"
          ]
        }
      ],
      "source": [
        "AlexNetModel.eval()\n",
        "for data in test:\n",
        "  inputs, labels = data\n",
        "  outputs = AlexNetModel(inputs)\n",
        "  loss = lossfn(outputs, labels)\n",
        "  accuracy.update(outputs, labels)\n",
        "\n",
        "print(f'Accuracy on test set: {accuracy.compute()*100}')"
      ]
    },
    {
      "cell_type": "code",
      "execution_count": 16,
      "metadata": {
        "id": "UyBGrcwft2dG"
      },
      "outputs": [],
      "source": [
        "torch.save(AlexNetModel.state_dict(), '/content/model_weights.pth')"
      ]
    },
    {
      "cell_type": "code",
      "source": [],
      "metadata": {
        "id": "AOsmcTo1EA4B"
      },
      "execution_count": null,
      "outputs": []
    }
  ],
  "metadata": {
    "colab": {
      "provenance": []
    },
    "kernelspec": {
      "display_name": "Python 3",
      "name": "python3"
    },
    "language_info": {
      "name": "python"
    }
  },
  "nbformat": 4,
  "nbformat_minor": 0
}