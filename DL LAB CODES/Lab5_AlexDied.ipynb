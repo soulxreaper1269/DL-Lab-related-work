{
  "nbformat": 4,
  "nbformat_minor": 0,
  "metadata": {
    "colab": {
      "provenance": []
    },
    "kernelspec": {
      "name": "python3",
      "display_name": "Python 3"
    },
    "language_info": {
      "name": "python"
    }
  },
  "cells": [
    {
      "cell_type": "code",
      "source": [
        "!unzip /content/Face-Images"
      ],
      "metadata": {
        "id": "NXo9kNX2vFkA"
      },
      "execution_count": null,
      "outputs": []
    },
    {
      "cell_type": "code",
      "execution_count": 66,
      "metadata": {
        "id": "axajscc4tkfn"
      },
      "outputs": [],
      "source": [
        "import torch\n",
        "import torchvision\n",
        "import torchvision.transforms as transforms\n",
        "import torch.utils.data as data\n",
        "import torch.nn as nn"
      ]
    },
    {
      "cell_type": "code",
      "source": [
        "trans = transforms.Compose([\n",
        "    transforms.Resize(64),\n",
        "    transforms.CenterCrop(64),\n",
        "    transforms.ToTensor()\n",
        "])"
      ],
      "metadata": {
        "id": "f-VYXkc5vKfj"
      },
      "execution_count": 65,
      "outputs": []
    },
    {
      "cell_type": "code",
      "source": [
        "TRAIN_DATA_PATH = \"/content/Face_Images/Final_Training_Images\"\n",
        "TEST_DATA_PATH = \"/content/Face_Images/Final_Training_Images\"\n",
        "train_data = torchvision.datasets.ImageFolder(root=TRAIN_DATA_PATH, transform=trans)\n",
        "train_data_loader = data.DataLoader(train_data, batch_size=4, shuffle=True)\n",
        "test_data = torchvision.datasets.ImageFolder(root=TEST_DATA_PATH, transform=trans)\n",
        "test_data_loader  = data.DataLoader(test_data, batch_size=4, shuffle=True)"
      ],
      "metadata": {
        "id": "tghzuHYRAtFM"
      },
      "execution_count": 67,
      "outputs": []
    },
    {
      "cell_type": "code",
      "source": [
        "AlexNet_model = torch.hub.load('pytorch/vision:v0.6.0', 'alexnet', pretrained=True)\n",
        "AlexNet_model.eval()"
      ],
      "metadata": {
        "colab": {
          "base_uri": "https://localhost:8080/"
        },
        "id": "LOdtrPxpvnzn",
        "outputId": "7f84ff96-f927-4bdf-8194-bb2b3209adb7"
      },
      "execution_count": 68,
      "outputs": [
        {
          "output_type": "stream",
          "name": "stderr",
          "text": [
            "Using cache found in /root/.cache/torch/hub/pytorch_vision_v0.6.0\n"
          ]
        },
        {
          "output_type": "execute_result",
          "data": {
            "text/plain": [
              "AlexNet(\n",
              "  (features): Sequential(\n",
              "    (0): Conv2d(3, 64, kernel_size=(11, 11), stride=(4, 4), padding=(2, 2))\n",
              "    (1): ReLU(inplace=True)\n",
              "    (2): MaxPool2d(kernel_size=3, stride=2, padding=0, dilation=1, ceil_mode=False)\n",
              "    (3): Conv2d(64, 192, kernel_size=(5, 5), stride=(1, 1), padding=(2, 2))\n",
              "    (4): ReLU(inplace=True)\n",
              "    (5): MaxPool2d(kernel_size=3, stride=2, padding=0, dilation=1, ceil_mode=False)\n",
              "    (6): Conv2d(192, 384, kernel_size=(3, 3), stride=(1, 1), padding=(1, 1))\n",
              "    (7): ReLU(inplace=True)\n",
              "    (8): Conv2d(384, 256, kernel_size=(3, 3), stride=(1, 1), padding=(1, 1))\n",
              "    (9): ReLU(inplace=True)\n",
              "    (10): Conv2d(256, 256, kernel_size=(3, 3), stride=(1, 1), padding=(1, 1))\n",
              "    (11): ReLU(inplace=True)\n",
              "    (12): MaxPool2d(kernel_size=3, stride=2, padding=0, dilation=1, ceil_mode=False)\n",
              "  )\n",
              "  (avgpool): AdaptiveAvgPool2d(output_size=(6, 6))\n",
              "  (classifier): Sequential(\n",
              "    (0): Dropout(p=0.5, inplace=False)\n",
              "    (1): Linear(in_features=9216, out_features=4096, bias=True)\n",
              "    (2): ReLU(inplace=True)\n",
              "    (3): Dropout(p=0.5, inplace=False)\n",
              "    (4): Linear(in_features=4096, out_features=4096, bias=True)\n",
              "    (5): ReLU(inplace=True)\n",
              "    (6): Linear(in_features=4096, out_features=1000, bias=True)\n",
              "  )\n",
              ")"
            ]
          },
          "metadata": {},
          "execution_count": 68
        }
      ]
    },
    {
      "cell_type": "code",
      "source": [
        "AlexNet_model.classifier[4] = nn.Linear(4096,1024)\n",
        "AlexNet_model.classifier[6] = nn.Linear(1024,16)"
      ],
      "metadata": {
        "id": "IikAeA84wIgF"
      },
      "execution_count": 69,
      "outputs": []
    },
    {
      "cell_type": "code",
      "source": [
        "#Instantiating CUDA device\n",
        "device = torch.device(\"cuda:0\" if torch.cuda.is_available() else \"cpu\")\n",
        "\n",
        "#Verifying CUDA\n",
        "print(device)\n",
        "\n",
        "#Move the input and AlexNet_model to GPU for speed if available\n",
        "AlexNet_model.to(device)"
      ],
      "metadata": {
        "id": "EgTR07FpGBp6"
      },
      "execution_count": null,
      "outputs": []
    },
    {
      "cell_type": "code",
      "source": [
        "import torch.optim as optim\n",
        "import torch.nn as nn\n",
        "\n",
        "#Loss\n",
        "criterion = nn.CrossEntropyLoss()\n",
        "\n",
        "#Optimizer(SGD)\n",
        "optimizer = optim.SGD(AlexNet_model.parameters(), lr=0.001, momentum=0.9)"
      ],
      "metadata": {
        "id": "rJ5xbG7sGHJ8"
      },
      "execution_count": 71,
      "outputs": []
    },
    {
      "cell_type": "code",
      "source": [
        "for epoch in range(10):\n",
        "  running_loss = 0.0\n",
        "  for i, data in enumerate(train_data_loader, 0):\n",
        "    # get the inputs; data is a list of [inputs, labels]\n",
        "    inputs, labels = data[0].to(device), data[1].to(device)\n",
        "\n",
        "    # zero the parameter gradients\n",
        "    optimizer.zero_grad()\n",
        "\n",
        "    # forward + backward + optimize\n",
        "    output = AlexNet_model(inputs)\n",
        "    loss = criterion(output, labels)\n",
        "    loss.backward()\n",
        "    optimizer.step()\n",
        "    running_loss += loss.item()\n",
        "    print('[%d, %5d] loss: %.3f' %(epoch + 1, i + 1, running_loss / 2000))\n",
        "\n",
        "print('Finished Training of AlexNet')"
      ],
      "metadata": {
        "id": "MnHGyFsywgwF",
        "colab": {
          "base_uri": "https://localhost:8080/"
        },
        "outputId": "6df5bc20-d4bb-4d3b-bf61-d1d6289a8576"
      },
      "execution_count": 75,
      "outputs": [
        {
          "output_type": "stream",
          "name": "stdout",
          "text": [
            "[1,     1] loss: 0.000\n",
            "[1,     2] loss: 0.000\n",
            "[1,     3] loss: 0.000\n",
            "[1,     4] loss: 0.000\n",
            "[1,     5] loss: 0.000\n",
            "[1,     6] loss: 0.000\n",
            "[1,     7] loss: 0.000\n",
            "[1,     8] loss: 0.000\n",
            "[1,     9] loss: 0.000\n",
            "[1,    10] loss: 0.000\n",
            "[1,    11] loss: 0.000\n",
            "[1,    12] loss: 0.000\n",
            "[1,    13] loss: 0.000\n",
            "[1,    14] loss: 0.000\n",
            "[1,    15] loss: 0.000\n",
            "[1,    16] loss: 0.000\n",
            "[2,     1] loss: 0.000\n",
            "[2,     2] loss: 0.000\n",
            "[2,     3] loss: 0.000\n",
            "[2,     4] loss: 0.000\n",
            "[2,     5] loss: 0.000\n",
            "[2,     6] loss: 0.000\n",
            "[2,     7] loss: 0.000\n",
            "[2,     8] loss: 0.000\n",
            "[2,     9] loss: 0.000\n",
            "[2,    10] loss: 0.000\n",
            "[2,    11] loss: 0.000\n",
            "[2,    12] loss: 0.000\n",
            "[2,    13] loss: 0.000\n",
            "[2,    14] loss: 0.000\n",
            "[2,    15] loss: 0.000\n",
            "[2,    16] loss: 0.000\n",
            "[3,     1] loss: 0.000\n",
            "[3,     2] loss: 0.000\n",
            "[3,     3] loss: 0.000\n",
            "[3,     4] loss: 0.000\n",
            "[3,     5] loss: 0.000\n",
            "[3,     6] loss: 0.000\n",
            "[3,     7] loss: 0.000\n",
            "[3,     8] loss: 0.000\n",
            "[3,     9] loss: 0.000\n",
            "[3,    10] loss: 0.000\n",
            "[3,    11] loss: 0.000\n",
            "[3,    12] loss: 0.000\n",
            "[3,    13] loss: 0.000\n",
            "[3,    14] loss: 0.000\n",
            "[3,    15] loss: 0.000\n",
            "[3,    16] loss: 0.000\n",
            "[4,     1] loss: 0.000\n",
            "[4,     2] loss: 0.000\n",
            "[4,     3] loss: 0.000\n",
            "[4,     4] loss: 0.000\n",
            "[4,     5] loss: 0.000\n",
            "[4,     6] loss: 0.000\n",
            "[4,     7] loss: 0.000\n",
            "[4,     8] loss: 0.000\n",
            "[4,     9] loss: 0.000\n",
            "[4,    10] loss: 0.000\n",
            "[4,    11] loss: 0.000\n",
            "[4,    12] loss: 0.000\n",
            "[4,    13] loss: 0.000\n",
            "[4,    14] loss: 0.000\n",
            "[4,    15] loss: 0.000\n",
            "[4,    16] loss: 0.000\n",
            "[5,     1] loss: 0.000\n",
            "[5,     2] loss: 0.000\n",
            "[5,     3] loss: 0.000\n",
            "[5,     4] loss: 0.000\n",
            "[5,     5] loss: 0.000\n",
            "[5,     6] loss: 0.000\n",
            "[5,     7] loss: 0.000\n",
            "[5,     8] loss: 0.000\n",
            "[5,     9] loss: 0.000\n",
            "[5,    10] loss: 0.000\n",
            "[5,    11] loss: 0.000\n",
            "[5,    12] loss: 0.000\n",
            "[5,    13] loss: 0.000\n",
            "[5,    14] loss: 0.000\n",
            "[5,    15] loss: 0.000\n",
            "[5,    16] loss: 0.000\n",
            "[6,     1] loss: 0.000\n",
            "[6,     2] loss: 0.000\n",
            "[6,     3] loss: 0.000\n",
            "[6,     4] loss: 0.000\n",
            "[6,     5] loss: 0.000\n",
            "[6,     6] loss: 0.000\n",
            "[6,     7] loss: 0.000\n",
            "[6,     8] loss: 0.000\n",
            "[6,     9] loss: 0.000\n",
            "[6,    10] loss: 0.000\n",
            "[6,    11] loss: 0.000\n",
            "[6,    12] loss: 0.000\n",
            "[6,    13] loss: 0.000\n",
            "[6,    14] loss: 0.000\n",
            "[6,    15] loss: 0.000\n",
            "[6,    16] loss: 0.000\n",
            "[7,     1] loss: 0.000\n",
            "[7,     2] loss: 0.000\n",
            "[7,     3] loss: 0.000\n",
            "[7,     4] loss: 0.000\n",
            "[7,     5] loss: 0.000\n",
            "[7,     6] loss: 0.000\n",
            "[7,     7] loss: 0.000\n",
            "[7,     8] loss: 0.000\n",
            "[7,     9] loss: 0.000\n",
            "[7,    10] loss: 0.000\n",
            "[7,    11] loss: 0.000\n",
            "[7,    12] loss: 0.000\n",
            "[7,    13] loss: 0.000\n",
            "[7,    14] loss: 0.000\n",
            "[7,    15] loss: 0.000\n",
            "[7,    16] loss: 0.000\n",
            "[8,     1] loss: 0.000\n",
            "[8,     2] loss: 0.000\n",
            "[8,     3] loss: 0.000\n",
            "[8,     4] loss: 0.000\n",
            "[8,     5] loss: 0.000\n",
            "[8,     6] loss: 0.000\n",
            "[8,     7] loss: 0.000\n",
            "[8,     8] loss: 0.000\n",
            "[8,     9] loss: 0.000\n",
            "[8,    10] loss: 0.000\n",
            "[8,    11] loss: 0.000\n",
            "[8,    12] loss: 0.000\n",
            "[8,    13] loss: 0.000\n",
            "[8,    14] loss: 0.000\n",
            "[8,    15] loss: 0.000\n",
            "[8,    16] loss: 0.000\n",
            "[9,     1] loss: 0.000\n",
            "[9,     2] loss: 0.000\n",
            "[9,     3] loss: 0.000\n",
            "[9,     4] loss: 0.000\n",
            "[9,     5] loss: 0.000\n",
            "[9,     6] loss: 0.000\n",
            "[9,     7] loss: 0.000\n",
            "[9,     8] loss: 0.000\n",
            "[9,     9] loss: 0.000\n",
            "[9,    10] loss: 0.000\n",
            "[9,    11] loss: 0.000\n",
            "[9,    12] loss: 0.000\n",
            "[9,    13] loss: 0.000\n",
            "[9,    14] loss: 0.000\n",
            "[9,    15] loss: 0.000\n",
            "[9,    16] loss: 0.000\n",
            "[10,     1] loss: 0.000\n",
            "[10,     2] loss: 0.000\n",
            "[10,     3] loss: 0.000\n",
            "[10,     4] loss: 0.000\n",
            "[10,     5] loss: 0.000\n",
            "[10,     6] loss: 0.000\n",
            "[10,     7] loss: 0.000\n",
            "[10,     8] loss: 0.000\n",
            "[10,     9] loss: 0.000\n",
            "[10,    10] loss: 0.000\n",
            "[10,    11] loss: 0.000\n",
            "[10,    12] loss: 0.000\n",
            "[10,    13] loss: 0.000\n",
            "[10,    14] loss: 0.000\n",
            "[10,    15] loss: 0.000\n",
            "[10,    16] loss: 0.000\n",
            "Finished Training of AlexNet\n"
          ]
        }
      ]
    },
    {
      "cell_type": "code",
      "source": [
        "#Testing Accuracy\n",
        "correct = 0\n",
        "total = 0\n",
        "with torch.no_grad():\n",
        "    for data in test_data_loader:\n",
        "        images, labels = data[0].to(device), data[1].to(device)\n",
        "        outputs = AlexNet_model(images)\n",
        "        _, predicted = torch.max(outputs.data, 1)\n",
        "        total += labels.size(0)\n",
        "        correct += (predicted == labels).sum().item()\n",
        "\n",
        "print('Accuracy of the network on the test images: %d %%' % (\n",
        "    100 * correct / total))"
      ],
      "metadata": {
        "colab": {
          "base_uri": "https://localhost:8080/"
        },
        "id": "ZrQu7HIcIi4q",
        "outputId": "bea855ce-abf4-415b-e418-2cb8f2e0cf88"
      },
      "execution_count": 76,
      "outputs": [
        {
          "output_type": "stream",
          "name": "stdout",
          "text": [
            "Accuracy of the network on the test images: 100 %\n"
          ]
        }
      ]
    }
  ]
}