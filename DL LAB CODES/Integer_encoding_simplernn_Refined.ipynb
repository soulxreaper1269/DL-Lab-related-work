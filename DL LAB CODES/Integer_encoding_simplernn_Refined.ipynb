{
  "nbformat": 4,
  "nbformat_minor": 0,
  "metadata": {
    "colab": {
      "provenance": []
    },
    "kernelspec": {
      "name": "python3",
      "display_name": "Python 3"
    },
    "language_info": {
      "name": "python"
    }
  },
  "cells": [
    {
      "cell_type": "markdown",
      "source": [
        "# **Lab 6**"
      ],
      "metadata": {
        "id": "OjRxvgwTGKcb"
      }
    },
    {
      "cell_type": "markdown",
      "source": [
        "**Aim:** To implement a Recurrent Neural Network\n"
      ],
      "metadata": {
        "id": "WCkjEMItGLim"
      }
    },
    {
      "cell_type": "code",
      "execution_count": null,
      "metadata": {
        "id": "SX1YuKQ4UDon"
      },
      "outputs": [],
      "source": [
        "docs = ['go india',\n",
        "\t\t'india india',\n",
        "\t\t'hip hip hurray',\n",
        "\t\t'india will win bro',\n",
        "\t\t'i love my india',\n",
        "\t\t'kohli is the greatest batsman',\n",
        "\t\t'sachin scored a lot of centuries',\n",
        "\t\t'dhoni won the second world cup for india',\n",
        "\t\t'will modi win the third term',\n",
        "\t\t'secular and diverse india']"
      ]
    },
    {
      "cell_type": "code",
      "source": [
        "from keras.preprocessing.text import Tokenizer\n",
        "#tokenizer = Tokenizer(oov_token='<IoTSection>')\n",
        "tokenizer = Tokenizer()"
      ],
      "metadata": {
        "id": "pOJzJ3vzUOkh"
      },
      "execution_count": null,
      "outputs": []
    },
    {
      "cell_type": "code",
      "source": [
        "tokenizer.fit_on_texts(docs)"
      ],
      "metadata": {
        "id": "njO0da4-Unl8"
      },
      "execution_count": null,
      "outputs": []
    },
    {
      "cell_type": "code",
      "source": [
        "tokenizer.word_index"
      ],
      "metadata": {
        "id": "GrKpFbzRUucs",
        "colab": {
          "base_uri": "https://localhost:8080/"
        },
        "outputId": "2bc58dc4-d5c4-4866-91d0-57528277731c"
      },
      "execution_count": null,
      "outputs": [
        {
          "output_type": "execute_result",
          "data": {
            "text/plain": [
              "{'india': 1,\n",
              " 'the': 2,\n",
              " 'hip': 3,\n",
              " 'will': 4,\n",
              " 'win': 5,\n",
              " 'go': 6,\n",
              " 'hurray': 7,\n",
              " 'bro': 8,\n",
              " 'i': 9,\n",
              " 'love': 10,\n",
              " 'my': 11,\n",
              " 'kohli': 12,\n",
              " 'is': 13,\n",
              " 'greatest': 14,\n",
              " 'batsman': 15,\n",
              " 'sachin': 16,\n",
              " 'scored': 17,\n",
              " 'a': 18,\n",
              " 'lot': 19,\n",
              " 'of': 20,\n",
              " 'centuries': 21,\n",
              " 'dhoni': 22,\n",
              " 'won': 23,\n",
              " 'second': 24,\n",
              " 'world': 25,\n",
              " 'cup': 26,\n",
              " 'for': 27,\n",
              " 'modi': 28,\n",
              " 'third': 29,\n",
              " 'term': 30,\n",
              " 'secular': 31,\n",
              " 'and': 32,\n",
              " 'diverse': 33}"
            ]
          },
          "metadata": {},
          "execution_count": 4
        }
      ]
    },
    {
      "cell_type": "code",
      "source": [
        "tokenizer.word_counts"
      ],
      "metadata": {
        "colab": {
          "base_uri": "https://localhost:8080/"
        },
        "id": "jNcKSYUYegGl",
        "outputId": "2fb4eb32-6628-427a-cf12-2de842db02ab"
      },
      "execution_count": null,
      "outputs": [
        {
          "output_type": "execute_result",
          "data": {
            "text/plain": [
              "OrderedDict([('go', 1),\n",
              "             ('india', 7),\n",
              "             ('hip', 2),\n",
              "             ('hurray', 1),\n",
              "             ('will', 2),\n",
              "             ('win', 2),\n",
              "             ('bro', 1),\n",
              "             ('i', 1),\n",
              "             ('love', 1),\n",
              "             ('my', 1),\n",
              "             ('kohli', 1),\n",
              "             ('is', 1),\n",
              "             ('the', 3),\n",
              "             ('greatest', 1),\n",
              "             ('batsman', 1),\n",
              "             ('sachin', 1),\n",
              "             ('scored', 1),\n",
              "             ('a', 1),\n",
              "             ('lot', 1),\n",
              "             ('of', 1),\n",
              "             ('centuries', 1),\n",
              "             ('dhoni', 1),\n",
              "             ('won', 1),\n",
              "             ('second', 1),\n",
              "             ('world', 1),\n",
              "             ('cup', 1),\n",
              "             ('for', 1),\n",
              "             ('modi', 1),\n",
              "             ('third', 1),\n",
              "             ('term', 1),\n",
              "             ('secular', 1),\n",
              "             ('and', 1),\n",
              "             ('diverse', 1)])"
            ]
          },
          "metadata": {},
          "execution_count": 5
        }
      ]
    },
    {
      "cell_type": "code",
      "source": [
        "tokenizer.document_count"
      ],
      "metadata": {
        "colab": {
          "base_uri": "https://localhost:8080/"
        },
        "id": "mx3SMLV3euuU",
        "outputId": "d6ca70a9-3181-409f-cdc4-5e11d6b9e1b1"
      },
      "execution_count": null,
      "outputs": [
        {
          "output_type": "execute_result",
          "data": {
            "text/plain": [
              "10"
            ]
          },
          "metadata": {},
          "execution_count": 6
        }
      ]
    },
    {
      "cell_type": "code",
      "source": [
        "sequences = tokenizer.texts_to_sequences(docs)\n",
        "sequences"
      ],
      "metadata": {
        "id": "xNrqCeiUU05s",
        "colab": {
          "base_uri": "https://localhost:8080/"
        },
        "outputId": "31eeeca4-c639-44eb-acdb-4dd002103467"
      },
      "execution_count": null,
      "outputs": [
        {
          "output_type": "execute_result",
          "data": {
            "text/plain": [
              "[[6, 1],\n",
              " [1, 1],\n",
              " [3, 3, 7],\n",
              " [1, 4, 5, 8],\n",
              " [9, 10, 11, 1],\n",
              " [12, 13, 2, 14, 15],\n",
              " [16, 17, 18, 19, 20, 21],\n",
              " [22, 23, 2, 24, 25, 26, 27, 1],\n",
              " [4, 28, 5, 2, 29, 30],\n",
              " [31, 32, 33, 1]]"
            ]
          },
          "metadata": {},
          "execution_count": 7
        }
      ]
    },
    {
      "cell_type": "code",
      "source": [
        "from keras.utils import pad_sequences"
      ],
      "metadata": {
        "id": "Y15DVHzhVCEY"
      },
      "execution_count": null,
      "outputs": []
    },
    {
      "cell_type": "code",
      "source": [
        "sequences = pad_sequences(sequences,padding='post')\n",
        "sequences"
      ],
      "metadata": {
        "id": "H00D6kZlVOC4",
        "colab": {
          "base_uri": "https://localhost:8080/"
        },
        "outputId": "c142fabd-1d15-43d4-bee7-5728f18c92db"
      },
      "execution_count": null,
      "outputs": [
        {
          "output_type": "execute_result",
          "data": {
            "text/plain": [
              "array([[ 6,  1,  0,  0,  0,  0,  0,  0],\n",
              "       [ 1,  1,  0,  0,  0,  0,  0,  0],\n",
              "       [ 3,  3,  7,  0,  0,  0,  0,  0],\n",
              "       [ 1,  4,  5,  8,  0,  0,  0,  0],\n",
              "       [ 9, 10, 11,  1,  0,  0,  0,  0],\n",
              "       [12, 13,  2, 14, 15,  0,  0,  0],\n",
              "       [16, 17, 18, 19, 20, 21,  0,  0],\n",
              "       [22, 23,  2, 24, 25, 26, 27,  1],\n",
              "       [ 4, 28,  5,  2, 29, 30,  0,  0],\n",
              "       [31, 32, 33,  1,  0,  0,  0,  0]], dtype=int32)"
            ]
          },
          "metadata": {},
          "execution_count": 9
        }
      ]
    },
    {
      "cell_type": "code",
      "source": [
        "len(sequences[0])"
      ],
      "metadata": {
        "colab": {
          "base_uri": "https://localhost:8080/"
        },
        "id": "pXR8laJC0QD3",
        "outputId": "4a366458-9901-4016-8dc9-15ac5bead8ed"
      },
      "execution_count": null,
      "outputs": [
        {
          "output_type": "execute_result",
          "data": {
            "text/plain": [
              "8"
            ]
          },
          "metadata": {},
          "execution_count": 10
        }
      ]
    },
    {
      "cell_type": "code",
      "source": [
        "sequences"
      ],
      "metadata": {
        "colab": {
          "base_uri": "https://localhost:8080/"
        },
        "id": "DjL4mCzTV4rT",
        "outputId": "cd068bde-a4b3-41b4-fd2e-8aefe3cfe272"
      },
      "execution_count": null,
      "outputs": [
        {
          "output_type": "execute_result",
          "data": {
            "text/plain": [
              "array([[ 6,  1,  0,  0,  0,  0,  0,  0],\n",
              "       [ 1,  1,  0,  0,  0,  0,  0,  0],\n",
              "       [ 3,  3,  7,  0,  0,  0,  0,  0],\n",
              "       [ 1,  4,  5,  8,  0,  0,  0,  0],\n",
              "       [ 9, 10, 11,  1,  0,  0,  0,  0],\n",
              "       [12, 13,  2, 14, 15,  0,  0,  0],\n",
              "       [16, 17, 18, 19, 20, 21,  0,  0],\n",
              "       [22, 23,  2, 24, 25, 26, 27,  1],\n",
              "       [ 4, 28,  5,  2, 29, 30,  0,  0],\n",
              "       [31, 32, 33,  1,  0,  0,  0,  0]], dtype=int32)"
            ]
          },
          "metadata": {},
          "execution_count": 11
        }
      ]
    },
    {
      "cell_type": "code",
      "source": [
        "from keras import Sequential\n",
        "from keras.layers import Dense, SimpleRNN, Embedding\n",
        "model = Sequential()\n",
        "model.add(Embedding(34,output_dim=2,input_length=8))\n",
        "model.add(Dense(units = 2, activation='softmax'))\n",
        "model.summary()"
      ],
      "metadata": {
        "colab": {
          "base_uri": "https://localhost:8080/"
        },
        "id": "3ABY5yMvz74_",
        "outputId": "f5a90278-0a2a-4c52-de82-de8f5fe31a09"
      },
      "execution_count": null,
      "outputs": [
        {
          "output_type": "stream",
          "name": "stdout",
          "text": [
            "Model: \"sequential_4\"\n",
            "_________________________________________________________________\n",
            " Layer (type)                Output Shape              Param #   \n",
            "=================================================================\n",
            " embedding_4 (Embedding)     (None, 8, 2)              68        \n",
            "                                                                 \n",
            " dense_4 (Dense)             (None, 8, 2)              6         \n",
            "                                                                 \n",
            "=================================================================\n",
            "Total params: 74 (296.00 Byte)\n",
            "Trainable params: 74 (296.00 Byte)\n",
            "Non-trainable params: 0 (0.00 Byte)\n",
            "_________________________________________________________________\n"
          ]
        }
      ]
    },
    {
      "cell_type": "code",
      "source": [
        "model.compile('adam','accuracy')"
      ],
      "metadata": {
        "id": "mFtsczW600a5"
      },
      "execution_count": null,
      "outputs": []
    },
    {
      "cell_type": "code",
      "source": [
        "pred = model.predict(sequences)\n",
        "print(pred)\n",
        "pred.shape"
      ],
      "metadata": {
        "colab": {
          "base_uri": "https://localhost:8080/"
        },
        "id": "kReKI6J87dZV",
        "outputId": "8968cdb6-3072-40cc-fdf9-ced981297eb3"
      },
      "execution_count": null,
      "outputs": [
        {
          "output_type": "stream",
          "name": "stdout",
          "text": [
            "1/1 [==============================] - 0s 244ms/step\n",
            "[[[0.5128169  0.4871832 ]\n",
            "  [0.50593483 0.49406517]\n",
            "  [0.47728473 0.5227153 ]\n",
            "  [0.47728473 0.5227153 ]\n",
            "  [0.47728473 0.5227153 ]\n",
            "  [0.47728473 0.5227153 ]\n",
            "  [0.47728473 0.5227153 ]\n",
            "  [0.47728473 0.5227153 ]]\n",
            "\n",
            " [[0.50593483 0.49406517]\n",
            "  [0.50593483 0.49406517]\n",
            "  [0.47728473 0.5227153 ]\n",
            "  [0.47728473 0.5227153 ]\n",
            "  [0.47728473 0.5227153 ]\n",
            "  [0.47728473 0.5227153 ]\n",
            "  [0.47728473 0.5227153 ]\n",
            "  [0.47728473 0.5227153 ]]\n",
            "\n",
            " [[0.5012797  0.49872032]\n",
            "  [0.5012797  0.49872032]\n",
            "  [0.48481685 0.51518315]\n",
            "  [0.47728473 0.5227153 ]\n",
            "  [0.47728473 0.5227153 ]\n",
            "  [0.47728473 0.5227153 ]\n",
            "  [0.47728473 0.5227153 ]\n",
            "  [0.47728473 0.5227153 ]]\n",
            "\n",
            " [[0.50593483 0.49406517]\n",
            "  [0.5035462  0.49645385]\n",
            "  [0.4906695  0.5093305 ]\n",
            "  [0.49849063 0.50150937]\n",
            "  [0.47728473 0.5227153 ]\n",
            "  [0.47728473 0.5227153 ]\n",
            "  [0.47728473 0.5227153 ]\n",
            "  [0.47728473 0.5227153 ]]\n",
            "\n",
            " [[0.49348876 0.5065113 ]\n",
            "  [0.51095986 0.48904002]\n",
            "  [0.5139852  0.48601478]\n",
            "  [0.50593483 0.49406517]\n",
            "  [0.47728473 0.5227153 ]\n",
            "  [0.47728473 0.5227153 ]\n",
            "  [0.47728473 0.5227153 ]\n",
            "  [0.47728473 0.5227153 ]]\n",
            "\n",
            " [[0.4952051  0.5047948 ]\n",
            "  [0.5148093  0.48519066]\n",
            "  [0.4865776  0.5134225 ]\n",
            "  [0.4873007  0.51269937]\n",
            "  [0.50977427 0.49022582]\n",
            "  [0.47728473 0.5227153 ]\n",
            "  [0.47728473 0.5227153 ]\n",
            "  [0.47728473 0.5227153 ]]\n",
            "\n",
            " [[0.4775283  0.52247167]\n",
            "  [0.5062023  0.49379766]\n",
            "  [0.5092295  0.49077052]\n",
            "  [0.50273633 0.49726364]\n",
            "  [0.5161321  0.48386788]\n",
            "  [0.48259777 0.5174022 ]\n",
            "  [0.47728473 0.5227153 ]\n",
            "  [0.47728473 0.5227153 ]]\n",
            "\n",
            " [[0.50934523 0.49065474]\n",
            "  [0.5105865  0.48941356]\n",
            "  [0.4865776  0.5134225 ]\n",
            "  [0.50501454 0.4949855 ]\n",
            "  [0.5084248  0.4915752 ]\n",
            "  [0.48253918 0.5174609 ]\n",
            "  [0.5083535  0.4916465 ]\n",
            "  [0.50593483 0.49406517]]\n",
            "\n",
            " [[0.5035462  0.49645385]\n",
            "  [0.51851344 0.4814865 ]\n",
            "  [0.4906695  0.5093305 ]\n",
            "  [0.4865776  0.5134225 ]\n",
            "  [0.48617196 0.513828  ]\n",
            "  [0.5031508  0.49684924]\n",
            "  [0.47728473 0.5227153 ]\n",
            "  [0.47728473 0.5227153 ]]\n",
            "\n",
            " [[0.49673644 0.5032636 ]\n",
            "  [0.5091956  0.49080437]\n",
            "  [0.4768464  0.5231536 ]\n",
            "  [0.50593483 0.49406517]\n",
            "  [0.47728473 0.5227153 ]\n",
            "  [0.47728473 0.5227153 ]\n",
            "  [0.47728473 0.5227153 ]\n",
            "  [0.47728473 0.5227153 ]]]\n"
          ]
        },
        {
          "output_type": "execute_result",
          "data": {
            "text/plain": [
              "(10, 8, 2)"
            ]
          },
          "metadata": {},
          "execution_count": 18
        }
      ]
    },
    {
      "cell_type": "code",
      "source": [
        "from keras.datasets import imdb\n",
        "from keras import Sequential\n",
        "from keras.layers import Dense,SimpleRNN,Embedding,Flatten\n",
        "from keras.preprocessing.text import Tokenizer\n",
        "from keras.utils import pad_sequences"
      ],
      "metadata": {
        "id": "f4cMDq3KDiaC"
      },
      "execution_count": null,
      "outputs": []
    },
    {
      "cell_type": "code",
      "source": [
        "(X_train,y_train),(X_test,y_test) = imdb.load_data()"
      ],
      "metadata": {
        "id": "vVqDOLaefsom",
        "colab": {
          "base_uri": "https://localhost:8080/"
        },
        "outputId": "23e1c02b-f983-4372-85e8-82dfb3b67606"
      },
      "execution_count": null,
      "outputs": [
        {
          "output_type": "stream",
          "name": "stdout",
          "text": [
            "Downloading data from https://storage.googleapis.com/tensorflow/tf-keras-datasets/imdb.npz\n",
            "17464789/17464789 [==============================] - 0s 0us/step\n"
          ]
        }
      ]
    },
    {
      "cell_type": "code",
      "source": [
        "X_train[0]"
      ],
      "metadata": {
        "colab": {
          "base_uri": "https://localhost:8080/"
        },
        "id": "HTk54ntQfu6W",
        "outputId": "8df3b3f1-306a-46fe-e2c7-be680247e41d"
      },
      "execution_count": null,
      "outputs": [
        {
          "output_type": "execute_result",
          "data": {
            "text/plain": [
              "[1,\n",
              " 14,\n",
              " 22,\n",
              " 16,\n",
              " 43,\n",
              " 530,\n",
              " 973,\n",
              " 1622,\n",
              " 1385,\n",
              " 65,\n",
              " 458,\n",
              " 4468,\n",
              " 66,\n",
              " 3941,\n",
              " 4,\n",
              " 173,\n",
              " 36,\n",
              " 256,\n",
              " 5,\n",
              " 25,\n",
              " 100,\n",
              " 43,\n",
              " 838,\n",
              " 112,\n",
              " 50,\n",
              " 670,\n",
              " 22665,\n",
              " 9,\n",
              " 35,\n",
              " 480,\n",
              " 284,\n",
              " 5,\n",
              " 150,\n",
              " 4,\n",
              " 172,\n",
              " 112,\n",
              " 167,\n",
              " 21631,\n",
              " 336,\n",
              " 385,\n",
              " 39,\n",
              " 4,\n",
              " 172,\n",
              " 4536,\n",
              " 1111,\n",
              " 17,\n",
              " 546,\n",
              " 38,\n",
              " 13,\n",
              " 447,\n",
              " 4,\n",
              " 192,\n",
              " 50,\n",
              " 16,\n",
              " 6,\n",
              " 147,\n",
              " 2025,\n",
              " 19,\n",
              " 14,\n",
              " 22,\n",
              " 4,\n",
              " 1920,\n",
              " 4613,\n",
              " 469,\n",
              " 4,\n",
              " 22,\n",
              " 71,\n",
              " 87,\n",
              " 12,\n",
              " 16,\n",
              " 43,\n",
              " 530,\n",
              " 38,\n",
              " 76,\n",
              " 15,\n",
              " 13,\n",
              " 1247,\n",
              " 4,\n",
              " 22,\n",
              " 17,\n",
              " 515,\n",
              " 17,\n",
              " 12,\n",
              " 16,\n",
              " 626,\n",
              " 18,\n",
              " 19193,\n",
              " 5,\n",
              " 62,\n",
              " 386,\n",
              " 12,\n",
              " 8,\n",
              " 316,\n",
              " 8,\n",
              " 106,\n",
              " 5,\n",
              " 4,\n",
              " 2223,\n",
              " 5244,\n",
              " 16,\n",
              " 480,\n",
              " 66,\n",
              " 3785,\n",
              " 33,\n",
              " 4,\n",
              " 130,\n",
              " 12,\n",
              " 16,\n",
              " 38,\n",
              " 619,\n",
              " 5,\n",
              " 25,\n",
              " 124,\n",
              " 51,\n",
              " 36,\n",
              " 135,\n",
              " 48,\n",
              " 25,\n",
              " 1415,\n",
              " 33,\n",
              " 6,\n",
              " 22,\n",
              " 12,\n",
              " 215,\n",
              " 28,\n",
              " 77,\n",
              " 52,\n",
              " 5,\n",
              " 14,\n",
              " 407,\n",
              " 16,\n",
              " 82,\n",
              " 10311,\n",
              " 8,\n",
              " 4,\n",
              " 107,\n",
              " 117,\n",
              " 5952,\n",
              " 15,\n",
              " 256,\n",
              " 4,\n",
              " 31050,\n",
              " 7,\n",
              " 3766,\n",
              " 5,\n",
              " 723,\n",
              " 36,\n",
              " 71,\n",
              " 43,\n",
              " 530,\n",
              " 476,\n",
              " 26,\n",
              " 400,\n",
              " 317,\n",
              " 46,\n",
              " 7,\n",
              " 4,\n",
              " 12118,\n",
              " 1029,\n",
              " 13,\n",
              " 104,\n",
              " 88,\n",
              " 4,\n",
              " 381,\n",
              " 15,\n",
              " 297,\n",
              " 98,\n",
              " 32,\n",
              " 2071,\n",
              " 56,\n",
              " 26,\n",
              " 141,\n",
              " 6,\n",
              " 194,\n",
              " 7486,\n",
              " 18,\n",
              " 4,\n",
              " 226,\n",
              " 22,\n",
              " 21,\n",
              " 134,\n",
              " 476,\n",
              " 26,\n",
              " 480,\n",
              " 5,\n",
              " 144,\n",
              " 30,\n",
              " 5535,\n",
              " 18,\n",
              " 51,\n",
              " 36,\n",
              " 28,\n",
              " 224,\n",
              " 92,\n",
              " 25,\n",
              " 104,\n",
              " 4,\n",
              " 226,\n",
              " 65,\n",
              " 16,\n",
              " 38,\n",
              " 1334,\n",
              " 88,\n",
              " 12,\n",
              " 16,\n",
              " 283,\n",
              " 5,\n",
              " 16,\n",
              " 4472,\n",
              " 113,\n",
              " 103,\n",
              " 32,\n",
              " 15,\n",
              " 16,\n",
              " 5345,\n",
              " 19,\n",
              " 178,\n",
              " 32]"
            ]
          },
          "metadata": {},
          "execution_count": 21
        }
      ]
    },
    {
      "cell_type": "code",
      "source": [
        "import numpy as np\n",
        "max(X_train)"
      ],
      "metadata": {
        "colab": {
          "base_uri": "https://localhost:8080/"
        },
        "id": "u9tGLS4ofzBu",
        "outputId": "b08aabae-f9e6-4c51-8605-ef68eb059a73"
      },
      "execution_count": null,
      "outputs": [
        {
          "output_type": "execute_result",
          "data": {
            "text/plain": [
              "[1,\n",
              " 88325,\n",
              " 733,\n",
              " 7,\n",
              " 14,\n",
              " 706,\n",
              " 40354,\n",
              " 1936,\n",
              " 4,\n",
              " 4423,\n",
              " 12322,\n",
              " 23,\n",
              " 4,\n",
              " 419,\n",
              " 97,\n",
              " 252,\n",
              " 25,\n",
              " 332,\n",
              " 12,\n",
              " 11,\n",
              " 420,\n",
              " 25,\n",
              " 92,\n",
              " 6,\n",
              " 604,\n",
              " 7,\n",
              " 3368,\n",
              " 1828,\n",
              " 125,\n",
              " 83,\n",
              " 4,\n",
              " 933,\n",
              " 1411,\n",
              " 7,\n",
              " 4,\n",
              " 6024,\n",
              " 10805,\n",
              " 8,\n",
              " 26519,\n",
              " 187,\n",
              " 19,\n",
              " 6,\n",
              " 762,\n",
              " 7,\n",
              " 6226,\n",
              " 11,\n",
              " 35,\n",
              " 1626,\n",
              " 6816,\n",
              " 4,\n",
              " 194,\n",
              " 2020,\n",
              " 223,\n",
              " 152,\n",
              " 193,\n",
              " 7880,\n",
              " 8,\n",
              " 14,\n",
              " 5,\n",
              " 4757,\n",
              " 8,\n",
              " 1261,\n",
              " 125,\n",
              " 4,\n",
              " 768,\n",
              " 31,\n",
              " 34,\n",
              " 31,\n",
              " 2256,\n",
              " 17683,\n",
              " 194,\n",
              " 2020,\n",
              " 309,\n",
              " 47,\n",
              " 6,\n",
              " 8849,\n",
              " 4191,\n",
              " 40,\n",
              " 393,\n",
              " 21,\n",
              " 9,\n",
              " 329,\n",
              " 629,\n",
              " 444,\n",
              " 74,\n",
              " 1335,\n",
              " 39,\n",
              " 1335,\n",
              " 5,\n",
              " 4,\n",
              " 48333,\n",
              " 91,\n",
              " 7,\n",
              " 4,\n",
              " 20,\n",
              " 47,\n",
              " 4,\n",
              " 1639,\n",
              " 4173,\n",
              " 156,\n",
              " 4470,\n",
              " 8,\n",
              " 30,\n",
              " 3368,\n",
              " 45514,\n",
              " 187,\n",
              " 11,\n",
              " 4,\n",
              " 1411,\n",
              " 5,\n",
              " 59784,\n",
              " 245,\n",
              " 14,\n",
              " 9,\n",
              " 6,\n",
              " 57,\n",
              " 352,\n",
              " 20,\n",
              " 11,\n",
              " 63,\n",
              " 55,\n",
              " 117,\n",
              " 571,\n",
              " 33,\n",
              " 222,\n",
              " 23,\n",
              " 268,\n",
              " 75,\n",
              " 81,\n",
              " 79,\n",
              " 8,\n",
              " 106,\n",
              " 4,\n",
              " 13537,\n",
              " 7,\n",
              " 4,\n",
              " 5186,\n",
              " 193,\n",
              " 6,\n",
              " 3014,\n",
              " 137,\n",
              " 31,\n",
              " 7,\n",
              " 41,\n",
              " 915,\n",
              " 9732,\n",
              " 3631,\n",
              " 21,\n",
              " 164,\n",
              " 266,\n",
              " 7,\n",
              " 14]"
            ]
          },
          "metadata": {},
          "execution_count": 22
        }
      ]
    },
    {
      "cell_type": "code",
      "source": [
        "X_train = pad_sequences(X_train,padding='post',maxlen=50)\n",
        "X_test = pad_sequences(X_test,padding='post',maxlen=50)"
      ],
      "metadata": {
        "id": "uoEmzhEhf1aV"
      },
      "execution_count": null,
      "outputs": []
    },
    {
      "cell_type": "code",
      "source": [
        "import numpy as np\n",
        "np.max(X_train)"
      ],
      "metadata": {
        "colab": {
          "base_uri": "https://localhost:8080/"
        },
        "id": "rcu0bZKMBbO8",
        "outputId": "29522850-13e2-4778-e2d7-390b36883427"
      },
      "execution_count": null,
      "outputs": [
        {
          "output_type": "execute_result",
          "data": {
            "text/plain": [
              "88585"
            ]
          },
          "metadata": {},
          "execution_count": 24
        }
      ]
    },
    {
      "cell_type": "code",
      "source": [
        "X_train.shape"
      ],
      "metadata": {
        "colab": {
          "base_uri": "https://localhost:8080/"
        },
        "id": "f4kNirFSgDEe",
        "outputId": "9d4a5746-8b4f-4f5f-cd9f-b2f91cbe9428"
      },
      "execution_count": null,
      "outputs": [
        {
          "output_type": "execute_result",
          "data": {
            "text/plain": [
              "(25000, 50)"
            ]
          },
          "metadata": {},
          "execution_count": 25
        }
      ]
    },
    {
      "cell_type": "code",
      "source": [
        "model = Sequential()\n",
        "\n",
        "\n",
        "model.add(Embedding(90000,output_dim=2,input_length=50))\n",
        "\n",
        "#model.summary()\n",
        "model.add(SimpleRNN(32,return_sequences=False))\n",
        "model.add(Dense(1,activation='sigmoid'))\n",
        "\n",
        "model.summary()"
      ],
      "metadata": {
        "colab": {
          "base_uri": "https://localhost:8080/"
        },
        "id": "MN_Fi3n6gFkp",
        "outputId": "f2d4f7c7-ce0b-4779-a19a-e6d4694ae80e"
      },
      "execution_count": null,
      "outputs": [
        {
          "output_type": "stream",
          "name": "stdout",
          "text": [
            "Model: \"sequential_5\"\n",
            "_________________________________________________________________\n",
            " Layer (type)                Output Shape              Param #   \n",
            "=================================================================\n",
            " embedding_5 (Embedding)     (None, 50, 2)             180000    \n",
            "                                                                 \n",
            " simple_rnn (SimpleRNN)      (None, 32)                1120      \n",
            "                                                                 \n",
            " dense_5 (Dense)             (None, 1)                 33        \n",
            "                                                                 \n",
            "=================================================================\n",
            "Total params: 181153 (707.63 KB)\n",
            "Trainable params: 181153 (707.63 KB)\n",
            "Non-trainable params: 0 (0.00 Byte)\n",
            "_________________________________________________________________\n"
          ]
        }
      ]
    },
    {
      "cell_type": "code",
      "source": [
        "model.compile(loss='binary_crossentropy',optimizer='adam',metrics=['acc'])\n",
        "\n",
        "model.fit(X_train,y_train,epochs=5,validation_data=(X_test,y_test))"
      ],
      "metadata": {
        "colab": {
          "base_uri": "https://localhost:8080/"
        },
        "id": "EArIjALcgPTh",
        "outputId": "56b538a8-e763-426f-cc5f-492f491a7782"
      },
      "execution_count": null,
      "outputs": [
        {
          "output_type": "stream",
          "name": "stdout",
          "text": [
            "Epoch 1/5\n",
            "782/782 [==============================] - 21s 25ms/step - loss: 0.5955 - acc: 0.6541 - val_loss: 0.4638 - val_acc: 0.7830\n",
            "Epoch 2/5\n",
            "782/782 [==============================] - 18s 23ms/step - loss: 0.3627 - acc: 0.8446 - val_loss: 0.4292 - val_acc: 0.8122\n",
            "Epoch 3/5\n",
            "782/782 [==============================] - 18s 24ms/step - loss: 0.2454 - acc: 0.9059 - val_loss: 0.4469 - val_acc: 0.8038\n",
            "Epoch 4/5\n",
            "782/782 [==============================] - 18s 24ms/step - loss: 0.1739 - acc: 0.9387 - val_loss: 0.6181 - val_acc: 0.7861\n",
            "Epoch 5/5\n",
            "782/782 [==============================] - 18s 24ms/step - loss: 0.1305 - acc: 0.9552 - val_loss: 0.6063 - val_acc: 0.7889\n"
          ]
        },
        {
          "output_type": "execute_result",
          "data": {
            "text/plain": [
              "<keras.src.callbacks.History at 0x7ca2cc136140>"
            ]
          },
          "metadata": {},
          "execution_count": 27
        }
      ]
    },
    {
      "cell_type": "code",
      "source": [],
      "metadata": {
        "id": "N9ziz5wWgTLS"
      },
      "execution_count": null,
      "outputs": []
    }
  ]
}