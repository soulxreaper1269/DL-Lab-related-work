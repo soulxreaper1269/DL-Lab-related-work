{
  "nbformat": 4,
  "nbformat_minor": 0,
  "metadata": {
    "colab": {
      "provenance": []
    },
    "kernelspec": {
      "name": "python3",
      "display_name": "Python 3"
    },
    "language_info": {
      "name": "python"
    }
  },
  "cells": [
    {
      "cell_type": "markdown",
      "source": [
        "# **LAB-02**"
      ],
      "metadata": {
        "id": "62ey1jRRe9gn"
      }
    },
    {
      "cell_type": "markdown",
      "source": [
        "**Aim:** To build a Multilayer Perceptron using PyTorch"
      ],
      "metadata": {
        "id": "aAvKkF-OfB0T"
      }
    },
    {
      "cell_type": "code",
      "execution_count": 1,
      "metadata": {
        "id": "cQUVLCmG9D_o"
      },
      "outputs": [],
      "source": [
        "from sklearn.datasets import load_iris\n",
        "from sklearn import preprocessing\n",
        "import numpy as np\n",
        "import pandas as pd\n",
        "from sklearn.model_selection import train_test_split\n",
        "import torch\n",
        "import torch.nn as nn\n",
        "import torch.optim as optim\n",
        "from sklearn.metrics import accuracy_score"
      ]
    },
    {
      "cell_type": "code",
      "source": [
        "iris=load_iris()"
      ],
      "metadata": {
        "id": "tUJEUw21-HT2"
      },
      "execution_count": 2,
      "outputs": []
    },
    {
      "cell_type": "code",
      "source": [
        "x=iris.data\n",
        "y=iris.target"
      ],
      "metadata": {
        "id": "f1McCUFAD6KV"
      },
      "execution_count": 3,
      "outputs": []
    },
    {
      "cell_type": "code",
      "source": [
        "xt,xte,yt,yte=train_test_split(x,y,test_size=0.3,random_state=27)"
      ],
      "metadata": {
        "id": "Id4pB3fLCPpx"
      },
      "execution_count": 4,
      "outputs": []
    },
    {
      "cell_type": "code",
      "source": [
        "X_train_tensor = torch.tensor(xt, dtype=torch.float32)\n",
        "X_test_tensor = torch.tensor(xte, dtype=torch.float32)\n",
        "y_train_tensor = torch.tensor(yt, dtype=torch.long)\n",
        "y_test_tensor = torch.tensor(yte, dtype=torch.long)\n"
      ],
      "metadata": {
        "id": "7AOYwDXTElzA"
      },
      "execution_count": 5,
      "outputs": []
    },
    {
      "cell_type": "code",
      "source": [
        "class MLP(nn.Module):\n",
        "    def __init__(self, input_size, hidden_size, output_size):\n",
        "        super(MLP, self).__init__()\n",
        "        self.fc1 = nn.Linear(input_size, hidden_size)\n",
        "        self.relu = nn.ReLU()\n",
        "        self.fc2 = nn.Linear(hidden_size, output_size)\n",
        "\n",
        "    def forward(self, x):\n",
        "        x = self.fc1(x)\n",
        "        x = self.relu(x)\n",
        "        x = self.fc2(x)\n",
        "        return x\n",
        "\n",
        "#hyperparameters\n",
        "input_size = 4\n",
        "hidden_size = 20\n",
        "output_size = 3\n",
        "learning_rate = 0.1\n",
        "epochs = 100\n",
        "\n",
        "#initialization\n",
        "model = MLP(input_size, hidden_size, output_size)\n",
        "criterion = nn.CrossEntropyLoss()\n",
        "optimizer = optim.SGD(model.parameters(), lr=learning_rate)\n"
      ],
      "metadata": {
        "id": "DSqh4wLHhKEc"
      },
      "execution_count": 6,
      "outputs": []
    },
    {
      "cell_type": "code",
      "source": [
        "for epoch in range(epochs):\n",
        "    optimizer.zero_grad()\n",
        "    outputs = model(X_train_tensor)\n",
        "    loss = criterion(outputs, y_train_tensor)\n",
        "    loss.backward()\n",
        "    optimizer.step()\n",
        "\n",
        "    if (epoch+1) % 10 == 0:\n",
        "        print(f'Epoch [{epoch+1}/{epochs}], Loss: {loss.item():.4f}')"
      ],
      "metadata": {
        "colab": {
          "base_uri": "https://localhost:8080/"
        },
        "id": "G9p9R9G4heJE",
        "outputId": "9d22ee4c-44a5-42b4-b1dc-98aa1f58f811"
      },
      "execution_count": 7,
      "outputs": [
        {
          "output_type": "stream",
          "name": "stdout",
          "text": [
            "Epoch [10/100], Loss: 0.6134\n",
            "Epoch [20/100], Loss: 0.4762\n",
            "Epoch [30/100], Loss: 0.4400\n",
            "Epoch [40/100], Loss: 0.4023\n",
            "Epoch [50/100], Loss: 0.3701\n",
            "Epoch [60/100], Loss: 0.3567\n",
            "Epoch [70/100], Loss: 0.3389\n",
            "Epoch [80/100], Loss: 0.3285\n",
            "Epoch [90/100], Loss: 0.3196\n",
            "Epoch [100/100], Loss: 0.3100\n"
          ]
        }
      ]
    },
    {
      "cell_type": "code",
      "source": [
        "with torch.no_grad():\n",
        "    outputs = model(X_test_tensor)\n",
        "    _, predicted = torch.max(outputs, 1)\n",
        "    accuracy = accuracy_score(yte, predicted.numpy())\n",
        "    print(f'Accuracy on test set: {accuracy:.4f}')"
      ],
      "metadata": {
        "colab": {
          "base_uri": "https://localhost:8080/"
        },
        "id": "adJGjfoBhhRD",
        "outputId": "ee11ceb0-4cb8-491d-e8a5-6b1746d1d75f"
      },
      "execution_count": 8,
      "outputs": [
        {
          "output_type": "stream",
          "name": "stdout",
          "text": [
            "Accuracy on test set: 0.8000\n"
          ]
        }
      ]
    },
    {
      "cell_type": "code",
      "source": [],
      "metadata": {
        "id": "q6Ub9EinhtoM"
      },
      "execution_count": 8,
      "outputs": []
    }
  ]
}